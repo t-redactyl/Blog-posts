{
 "cells": [
  {
   "cell_type": "markdown",
   "metadata": {},
   "source": [
    "---\n",
    "title: Working with matrices: inversion   \n",
    "date: 2020-06-15   \n",
    "comments: false  \n",
    "tags: maths, linear algebra, python  \n",
    "keywords: python, data science, linear algebra, matrix inversion, identity matrix, numpy\n",
    "\n",
    "---\n",
    "\n",
    "Today we will continue our discussion of the basic operations you can do with matrices in linear algebra. In the [last post]({filename}2020-06-01-matrices-addition-subtraction-and-multiplication.md) we covered addition, subtraction, scalar multiplication and matrix multiplication. This week, we'll cover matrix inversion.\n",
    "\n",
    "## Matrix inversion\n",
    "\n",
    "So far we've seen matrix addition, subtraction and multiplication, but what about matrix division? Well, technically there is no such thing! The closest thing we have is multiplying a matrix by its inverse. Before we get into what an inverse is, we need to pause to describe a special matrix called the **identity matrix**. \n",
    "\n",
    "### Identity matrix\n",
    "\n",
    "The identity matrix is simply a square matrix which has 0 everywhere except along the diagonal, where it instead contains 1's. For example, a $2 \\times 2$ identity matrix would be:\n",
    "\n",
    "$$\n",
    "I = \\begin{bmatrix} 1 & 0 \\\\ 0 & 1 \\end{bmatrix}\n",
    "$$\n",
    "\n",
    "The identity matrix can be thought of as the equivalent of 1 for matrices, in the sense that if you multiply any number by 1, the number will remain unchanged. Similarly, if you multiply any matrix by its identity matrix, that matrix will remain unchanged. Let's see this with a new matrix $A$:\n",
    "\n",
    "$$\n",
    "A = \\begin{bmatrix} 4 & 3 \\\\ 6 & 5 \\end{bmatrix}\n",
    "$$\n",
    "\n",
    "If we multiply $A$ by $I$, we get:\n",
    "$$\n",
    "\\begin{aligned}\n",
    "AI &= \\begin{bmatrix} 4 & 3 \\\\ 6 & 5 \\end{bmatrix} \\begin{bmatrix} 1 & 0 \\\\ 0 & 1 \\end{bmatrix}\\\\\n",
    "&= \\begin{bmatrix} (4 \\times 1 + 3 \\times 0) & (4 \\times 0 + 3 \\times 1) \\\\ (6 \\times 1 + 5 \\times 0) & (6 \\times 0 + 5 \\times 1) \\end{bmatrix}\\\\\n",
    "&= \\begin{bmatrix} 4 & 3 \\\\ 6 & 5 \\end{bmatrix}\n",
    "\\end{aligned}\n",
    "$$\n",
    "\n",
    "In order to do this in Numpy, we can generate an identity matrix using the `identity` function, passing the number of rows (and columns) as the argument."
   ]
  },
  {
   "cell_type": "code",
   "execution_count": 3,
   "metadata": {},
   "outputs": [
    {
     "data": {
      "text/plain": [
       "array([[1., 0.],\n",
       "       [0., 1.]])"
      ]
     },
     "execution_count": 3,
     "metadata": {},
     "output_type": "execute_result"
    }
   ],
   "source": [
    "import numpy as np\n",
    "\n",
    "A = np.array([[4, 3], [6, 5]])\n",
    "I = np.identity(2)\n",
    "I"
   ]
  },
  {
   "cell_type": "code",
   "execution_count": 4,
   "metadata": {},
   "outputs": [
    {
     "data": {
      "text/plain": [
       "array([[4., 3.],\n",
       "       [6., 5.]])"
      ]
     },
     "execution_count": 4,
     "metadata": {},
     "output_type": "execute_result"
    }
   ],
   "source": [
    "AI = A.dot(I)\n",
    "AI"
   ]
  },
  {
   "cell_type": "markdown",
   "metadata": {},
   "source": [
    "Unlike most matrix multiplications, we get the same result if we multiply $AI$ or $IA$, as both results just simplify to $A$: $AI = IA = A$. This means that matrix multiplication by the identity is commutative."
   ]
  },
  {
   "cell_type": "code",
   "execution_count": 5,
   "metadata": {},
   "outputs": [
    {
     "data": {
      "text/plain": [
       "array([[4., 3.],\n",
       "       [6., 5.]])"
      ]
     },
     "execution_count": 5,
     "metadata": {},
     "output_type": "execute_result"
    }
   ],
   "source": [
    "IA = I.dot(A)\n",
    "IA"
   ]
  },
  {
   "cell_type": "markdown",
   "metadata": {},
   "source": [
    "### Inverse of a matrix\n",
    "\n",
    "The inverse of a matrix is another matrix by which you multiply that matrix to get the identity matrix. This is comparable to the inverse with numbers, where the [inverse of a number is what you multiply that number by to get 1](https://www.mathsisfun.com/numbers/inverse.html). You may have noticed that I referred to **the** inverse of a matrix. This is because every matrix that can be inverted has only one unique inverse. The inverse of the matrix is indicated by writing the name of the original matrix with a little $-1$ superscript ([which is exactly the same notation as for the multiplicative inverse for numbers](https://www.mathsisfun.com/numbers/inverse.html)). For example, the matrix $Z$ would have the inverse $Z^{-1}$.\n",
    "\n",
    "How do we find the inverse of a matrix? For $2 \\times 2$ matrices it is straightforward. In order to do so, we transform our original matrix in the following way:\n",
    "$$\n",
    "M^{-1} = \\frac{1}{m_{11}m_{22} - m_{12}m_{21}} \\begin{bmatrix}m_{22} & -m_{12}\\\\-m_{21} & m_{11}\\end{bmatrix}\n",
    "$$\n",
    "\n",
    "This looks a little complicated, but let's break it down. Have a look at the matrix component of this equation. You can see that we have swapped the positions of the first and last elements in the matrix, so that the element that was in $m_{11}$ is now in $m_{22}$, and vice versa. $m_{12}$ and $m_{21}$ stay in their original spots, but we multiply them by $-1$. We then calculate something called the determinant, which is basically a number we divide this reorganised matrix by to get the inverse. This is calculated by the formula $m_{11}m_{22} - m_{12}m_{21}$, and if we multiply our reorganised matrix by $1$ divided by this number, we get the inverse.\n",
    "\n",
    "Let's try this with a concrete example, using our matrix $A$. In order to get the inverse of $A$, or $A^{-1}$, we do the following:\n",
    "$$\n",
    "\\begin{aligned}\n",
    "A^{-1} &= \\frac{1}{4 \\times 5 - 3 \\times 6} \\begin{bmatrix}5 & -3 \\\\ -6 & 4 \\end{bmatrix}\\\\\n",
    "&= \\frac{1}{2} \\begin{bmatrix} 5 & -3 \\\\ -6 & 4 \\end{bmatrix}\\\\\n",
    "&= \\begin{bmatrix}(\\frac{1}{2} \\times 5) & (\\frac{1}{2} \\times -3) \\\\ (\\frac{1}{2} \\times -6) & (\\frac{1}{2} \\times 4) \\end{bmatrix}\\\\\n",
    "&= \\begin{bmatrix} \\frac{5}{2} & -\\frac{3}{2} \\\\ -3 & 2 \\end{bmatrix}\n",
    "\\end{aligned}\n",
    "$$\n",
    "\n",
    "And voilà, we have our matrix inversion! Let's just double check it worked by multiplying $F$ by it:\n",
    "$$\n",
    "\\begin{aligned}\n",
    "AA^{-1} &= \\begin{bmatrix}(4 \\times \\frac{5}{2} + 3 \\times -3) & (4\\times-\\frac{3}{2} + 3\\times2)\\\\(6\\times\\frac{5}{2} + -3 \\times 5) & (6\\times-\\frac{3}{2} + 5\\times2)\\end{bmatrix}\\\\\n",
    "&= \\begin{bmatrix}(10-9) & (-6 + 6)\\\\(15-15) & (-9 + 10)\\end{bmatrix}\\\\\n",
    "&= \\begin{bmatrix}1 & 0\\\\0 & 1\\end{bmatrix}\n",
    "\\end{aligned}\n",
    "$$\n",
    "\n",
    "Unfortunately, finding the inverse of matrices that are bigger than $2 \\times 2$ is less straightforward. There are a few methods to do it, but they are beyond the scope of this blog post. A couple of nice (and gentle) introductions to these can be found [here](https://www.mathsisfun.com/algebra/matrix-inverse-row-operations-gauss-jordan.html) and [here](https://www.mathsisfun.com/algebra/matrix-inverse-minors-cofactors-adjugate.html).\n",
    "\n",
    "In order to calculate the inverse of a matrix in Numpy, we can use the `inv` function from the `linalg` subpackage."
   ]
  },
  {
   "cell_type": "code",
   "execution_count": 10,
   "metadata": {},
   "outputs": [
    {
     "data": {
      "text/plain": [
       "array([[ 2.5, -1.5],\n",
       "       [-3. ,  2. ]])"
      ]
     },
     "execution_count": 10,
     "metadata": {},
     "output_type": "execute_result"
    }
   ],
   "source": [
    "from numpy.linalg import inv\n",
    "\n",
    "Ainv = inv(A)\n",
    "Ainv"
   ]
  },
  {
   "cell_type": "markdown",
   "metadata": {},
   "source": [
    "Let's check it is the correct inverse by multiplying it by $A$:"
   ]
  },
  {
   "cell_type": "code",
   "execution_count": 14,
   "metadata": {},
   "outputs": [
    {
     "data": {
      "text/plain": [
       "array([[1., 0.],\n",
       "       [0., 1.]])"
      ]
     },
     "execution_count": 14,
     "metadata": {},
     "output_type": "execute_result"
    }
   ],
   "source": [
    "np.round(A.dot(Ainv))"
   ]
  },
  {
   "cell_type": "markdown",
   "metadata": {},
   "source": [
    "Like with multiplication by the identity matrix, multiplication by the inverse is also commutative. This is because, as we just saw above, multiplying $A$ by its inverse simplifies to $I$, so $AA^{-1} = A^{-1}A = I$. Let's confirm this is true using Numpy:"
   ]
  },
  {
   "cell_type": "code",
   "execution_count": 15,
   "metadata": {},
   "outputs": [
    {
     "data": {
      "text/plain": [
       "array([[1., 0.],\n",
       "       [0., 1.]])"
      ]
     },
     "execution_count": 15,
     "metadata": {},
     "output_type": "execute_result"
    }
   ],
   "source": [
    "np.round(Ainv.dot(A))"
   ]
  },
  {
   "cell_type": "markdown",
   "metadata": {},
   "source": [
    "You've probably guessed from what I said earlier that not all matrices are invertible. Firstly, only square matrices are invertible. In addition, if any of the columns are a combination of any of the other columns in the matrix, then you cannot invert the matrix (in other words, when any of the columns are a linear combination of any of the other columns). Let's see why this is the case. Let's say we have a matrix $B$, where the second column is a multiple of the first column:\n",
    "\n",
    "$$\n",
    "B = \\begin{bmatrix}1 & 2\\\\3 & 6\\end{bmatrix}\n",
    "$$\n",
    "\n",
    "Let's now try to calculate the inverse, $G^{-1}$:\n",
    "\n",
    "$$\n",
    "\\begin{aligned}\n",
    "B^{-1} &= \\frac{1}{(1 \\times 6) - (2 \\times 3)}\\begin{bmatrix}6 & -2\\\\-3 & 1\\end{bmatrix}\\\\ \n",
    "&= \\frac{1}{6 - 6}\\begin{bmatrix}6 & -2\\\\-3 & 1\\end{bmatrix}\\\\ \n",
    "&= \\frac{1}{0}\\begin{bmatrix}6 & -2\\\\-3 & 1\\end{bmatrix}\n",
    "\\end{aligned}\n",
    "$$\n",
    "\n",
    "But wait! Our determinant is $\\frac{1}{0}$, which is undefined. This means we can't go any further in solving this equation, making our matrix uninvertible. Such non-invertible matrices are called \"singular\" or \"degenerate\" matrices.\n",
    "\n",
    "Let's see what happens when we try to pass our matrix $B$ to Numpy's `inv` function:"
   ]
  },
  {
   "cell_type": "code",
   "execution_count": 18,
   "metadata": {},
   "outputs": [
    {
     "ename": "LinAlgError",
     "evalue": "Singular matrix",
     "output_type": "error",
     "traceback": [
      "\u001b[0;31m---------------------------------------------------------------------------\u001b[0m",
      "\u001b[0;31mLinAlgError\u001b[0m                               Traceback (most recent call last)",
      "\u001b[0;32m<ipython-input-18-ae75e56b5e72>\u001b[0m in \u001b[0;36m<module>\u001b[0;34m\u001b[0m\n\u001b[1;32m      1\u001b[0m \u001b[0mB\u001b[0m \u001b[0;34m=\u001b[0m \u001b[0mnp\u001b[0m\u001b[0;34m.\u001b[0m\u001b[0marray\u001b[0m\u001b[0;34m(\u001b[0m\u001b[0;34m[\u001b[0m\u001b[0;34m[\u001b[0m\u001b[0;36m1\u001b[0m\u001b[0;34m,\u001b[0m \u001b[0;36m2\u001b[0m\u001b[0;34m]\u001b[0m\u001b[0;34m,\u001b[0m \u001b[0;34m[\u001b[0m\u001b[0;36m3\u001b[0m\u001b[0;34m,\u001b[0m \u001b[0;36m6\u001b[0m\u001b[0;34m]\u001b[0m\u001b[0;34m]\u001b[0m\u001b[0;34m)\u001b[0m\u001b[0;34m\u001b[0m\u001b[0;34m\u001b[0m\u001b[0m\n\u001b[0;32m----> 2\u001b[0;31m \u001b[0minv\u001b[0m\u001b[0;34m(\u001b[0m\u001b[0mB\u001b[0m\u001b[0;34m)\u001b[0m\u001b[0;34m\u001b[0m\u001b[0;34m\u001b[0m\u001b[0m\n\u001b[0m",
      "\u001b[0;32m<__array_function__ internals>\u001b[0m in \u001b[0;36minv\u001b[0;34m(*args, **kwargs)\u001b[0m\n",
      "\u001b[0;32m~/Documents/Blog-posts/.maths_venv/lib/python3.7/site-packages/numpy/linalg/linalg.py\u001b[0m in \u001b[0;36minv\u001b[0;34m(a)\u001b[0m\n\u001b[1;32m    545\u001b[0m     \u001b[0msignature\u001b[0m \u001b[0;34m=\u001b[0m \u001b[0;34m'D->D'\u001b[0m \u001b[0;32mif\u001b[0m \u001b[0misComplexType\u001b[0m\u001b[0;34m(\u001b[0m\u001b[0mt\u001b[0m\u001b[0;34m)\u001b[0m \u001b[0;32melse\u001b[0m \u001b[0;34m'd->d'\u001b[0m\u001b[0;34m\u001b[0m\u001b[0;34m\u001b[0m\u001b[0m\n\u001b[1;32m    546\u001b[0m     \u001b[0mextobj\u001b[0m \u001b[0;34m=\u001b[0m \u001b[0mget_linalg_error_extobj\u001b[0m\u001b[0;34m(\u001b[0m\u001b[0m_raise_linalgerror_singular\u001b[0m\u001b[0;34m)\u001b[0m\u001b[0;34m\u001b[0m\u001b[0;34m\u001b[0m\u001b[0m\n\u001b[0;32m--> 547\u001b[0;31m     \u001b[0mainv\u001b[0m \u001b[0;34m=\u001b[0m \u001b[0m_umath_linalg\u001b[0m\u001b[0;34m.\u001b[0m\u001b[0minv\u001b[0m\u001b[0;34m(\u001b[0m\u001b[0ma\u001b[0m\u001b[0;34m,\u001b[0m \u001b[0msignature\u001b[0m\u001b[0;34m=\u001b[0m\u001b[0msignature\u001b[0m\u001b[0;34m,\u001b[0m \u001b[0mextobj\u001b[0m\u001b[0;34m=\u001b[0m\u001b[0mextobj\u001b[0m\u001b[0;34m)\u001b[0m\u001b[0;34m\u001b[0m\u001b[0;34m\u001b[0m\u001b[0m\n\u001b[0m\u001b[1;32m    548\u001b[0m     \u001b[0;32mreturn\u001b[0m \u001b[0mwrap\u001b[0m\u001b[0;34m(\u001b[0m\u001b[0mainv\u001b[0m\u001b[0;34m.\u001b[0m\u001b[0mastype\u001b[0m\u001b[0;34m(\u001b[0m\u001b[0mresult_t\u001b[0m\u001b[0;34m,\u001b[0m \u001b[0mcopy\u001b[0m\u001b[0;34m=\u001b[0m\u001b[0;32mFalse\u001b[0m\u001b[0;34m)\u001b[0m\u001b[0;34m)\u001b[0m\u001b[0;34m\u001b[0m\u001b[0;34m\u001b[0m\u001b[0m\n\u001b[1;32m    549\u001b[0m \u001b[0;34m\u001b[0m\u001b[0m\n",
      "\u001b[0;32m~/Documents/Blog-posts/.maths_venv/lib/python3.7/site-packages/numpy/linalg/linalg.py\u001b[0m in \u001b[0;36m_raise_linalgerror_singular\u001b[0;34m(err, flag)\u001b[0m\n\u001b[1;32m     95\u001b[0m \u001b[0;34m\u001b[0m\u001b[0m\n\u001b[1;32m     96\u001b[0m \u001b[0;32mdef\u001b[0m \u001b[0m_raise_linalgerror_singular\u001b[0m\u001b[0;34m(\u001b[0m\u001b[0merr\u001b[0m\u001b[0;34m,\u001b[0m \u001b[0mflag\u001b[0m\u001b[0;34m)\u001b[0m\u001b[0;34m:\u001b[0m\u001b[0;34m\u001b[0m\u001b[0;34m\u001b[0m\u001b[0m\n\u001b[0;32m---> 97\u001b[0;31m     \u001b[0;32mraise\u001b[0m \u001b[0mLinAlgError\u001b[0m\u001b[0;34m(\u001b[0m\u001b[0;34m\"Singular matrix\"\u001b[0m\u001b[0;34m)\u001b[0m\u001b[0;34m\u001b[0m\u001b[0;34m\u001b[0m\u001b[0m\n\u001b[0m\u001b[1;32m     98\u001b[0m \u001b[0;34m\u001b[0m\u001b[0m\n\u001b[1;32m     99\u001b[0m \u001b[0;32mdef\u001b[0m \u001b[0m_raise_linalgerror_nonposdef\u001b[0m\u001b[0;34m(\u001b[0m\u001b[0merr\u001b[0m\u001b[0;34m,\u001b[0m \u001b[0mflag\u001b[0m\u001b[0;34m)\u001b[0m\u001b[0;34m:\u001b[0m\u001b[0;34m\u001b[0m\u001b[0;34m\u001b[0m\u001b[0m\n",
      "\u001b[0;31mLinAlgError\u001b[0m: Singular matrix"
     ]
    }
   ],
   "source": [
    "B = np.array([[1, 2], [3, 6]])\n",
    "inv(B)"
   ]
  },
  {
   "cell_type": "markdown",
   "metadata": {},
   "source": [
    "Numpy tells us clearly that this matrix is non-invertible, exactly for the reasons we talked about above.\n",
    "\n",
    "That caps off our discussion of matrix inversion. In the next post, we'll finish up this series on matrix operations by talking about powers of a matrix and matrix transposition."
   ]
  }
 ],
 "metadata": {
  "kernelspec": {
   "display_name": "Python 3",
   "language": "python",
   "name": "python3"
  },
  "language_info": {
   "codemirror_mode": {
    "name": "ipython",
    "version": 3
   },
   "file_extension": ".py",
   "mimetype": "text/x-python",
   "name": "python",
   "nbconvert_exporter": "python",
   "pygments_lexer": "ipython3",
   "version": "3.7.6"
  }
 },
 "nbformat": 4,
 "nbformat_minor": 4
}
