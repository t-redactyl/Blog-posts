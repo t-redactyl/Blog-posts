{
 "cells": [
  {
   "cell_type": "markdown",
   "metadata": {},
   "source": [
    "---\n",
    "title: Solving OLS regression with linear algebra  \n",
    "date: 2020-07-13   \n",
    "comments: false  \n",
    "tags: maths, linear algebra, python  \n",
    "keywords: python, data science, linear algebra, linear regression, normal equation, least squares, numpy\n",
    "\n",
    "---\n",
    "\n",
    "When I first learned least-squares linear regression in my undergrad degree, I remember that we approached it in the \"calculus\" way: taking the sum of the squared differences for each observation and solving a massive (and tedious) equation until we arrived at our coefficients and line of best fit. I actually had no idea there was an alternative way of calculating OLS regression until I completed Andrew Ng's brilliant [Machine Learning](https://www.coursera.org/learn/machine-learning/home/welcome) course on Coursera, and while taking my linear algebra unit I fully understood how it works. I'll go through the logic and calculations in this blog post, and hopefully you will see how much more elegant it is than the more traditional approach. This blog post will assume some basic understanding of matrix operations: if you'd like to get an overview of these, feel free to look at my earlier blog posts [here]({filename}2020-06-01-matrices-addition-subtraction-and-multiplication.md), [here]({filename}2020-06-15-matrix-inversion.md) and [here]({filename}2020-06-29-matrices-powers-and-transposition.md). It will also assume familiarity with OLS regression.\n",
    "\n",
    "Say we are trying to predict students' test scores (out of 10), and the one measurement we have is the average number of hours of study they did a day for this test. Let's also say (in order to keep the calculations under control) that we only have 3 observations. Our dataset therefore looks like this:\n",
    "\n",
    "| Hours of study ($x_1$) | Test score ($y$) |\n",
    "|---------------------|----------------|\n",
    "| 1 | 3 |\n",
    "| 2 | 6 |\n",
    "| 3 | 7 |\n",
    "\n",
    "We believe there is some underlying relationship between these variables, which can be modelled in the form of a line $y = b_0 + b_1x_1$, where $b_0$ and $b_1$ are the intercept and the $x_1$ coefficient respectively. However, when we plot our points, we can see that no straight line would go through all 3 of our points. Instead, looking ahead a bit, we can see that linear regression instead attempts to fit a line that is as close as possible to each of the points we have observed."
   ]
  },
  {
   "cell_type": "code",
   "execution_count": 35,
   "metadata": {},
   "outputs": [
    {
     "data": {
      "image/png": "[encoded data removed]",
      "text/plain": [
       "<Figure size 640x480 with 1 Axes>"
      ]
     },
     "metadata": {},
     "output_type": "display_data"
    },
    {
     "data": {
      "text/plain": [
       "<ggplot: (312482481)>"
      ]
     },
     "execution_count": 35,
     "metadata": {},
     "output_type": "execute_result"
    }
   ],
   "source": [
    "from plotnine import *\n",
    "from plotnine import ggplot\n",
    "import pandas as pd\n",
    "\n",
    "test_data = pd.DataFrame({\"hours_study\": [1, 2, 3],\n",
    "                          \"test_score\": [3, 6, 7]})\n",
    "\n",
    "(ggplot(test_data, aes(\"hours_study\", \"test_score\")) \n",
    "    + geom_point()\n",
    "    + geom_smooth(method = \"lm\", se = False, colour = \"grey\")\n",
    "    + xlab(\"Daily hours of study (average)\")\n",
    "    + ylab(\"Test score\")\n",
    "    + theme_bw()\n",
    ")"
   ]
  },
  {
   "cell_type": "markdown",
   "metadata": {},
   "source": [
    "<img src=\"/figure/normal_equation_1.png\" title=\"Linear regression trend\" style=\"display: block; margin: auto;\" />\n",
    "\n",
    "We can see this clearly from a mathematical viewpoint as well. Each of our points will lie on the line $y = b_0 + b_1x_1$ only under the following conditions: if $b_0 + b_1 \\cdotp 1 = 3$, the first observation is on the line; if $b_0 + b_1 \\cdotp 2 = 6$, the second observation is on the line; and if $b_0 + b_1 \\cdotp 3 = 7$ the third observation is on the line.\n",
    "\n",
    "We can see for the first 2 observations, we have a perfect fit, where the coefficients $b_0 = 0$ and $b_1 = 3$ would solve our equations. However, the third observation throws this solution out the window. In fact, there is _no_ pair of $b_0$ and $b_1$ that will solve this equation. So what do we do? Obviously linear regression comes up with solutions to this issue all the time, so it must be solvable! I will demonstrate how using the [normal equation](http://mlwiki.org/index.php/Normal_Equation#Least_Squares) approach."
   ]
  },
  {
   "cell_type": "markdown",
   "metadata": {},
   "source": [
    "## Solving for $\\hat y$ instead of $y$\n",
    "\n",
    "In order to get started, let's move away from the world of equations and instead start representing our data as matrices and vectors. We have three components we want to represent: the values of our features ($X$), the values of our outcome ($y$), and the unknown $b_0$ and $b_1$ that we'd like to solve for ($b$).\n",
    "$$\n",
    "X = \\begin{bmatrix} 1 & 1 \\\\ 1 & 2 \\\\ 1 & 3 \\end{bmatrix} \\quad\\quad b = \\begin{bmatrix} b_0 \\\\ b_1 \\end{bmatrix}\\quad\\quad y = \\begin{bmatrix} 3 \\\\ 6 \\\\ 7 \\end{bmatrix}\n",
    "$$\n",
    "\n",
    "We've added a column of `1`'s to the `X` matrix (also called the [design matrix](https://en.wikipedia.org/wiki/Design_matrix)) in order to represent our intercept. This is because the value of $x_0$ in any linear equation is always set to 1, in order to hold the intercept at a constant. Now let's have a look at what these matrices and vectors represent in linear algebra. \n",
    "\n",
    "$X$ represents the [basis](https://en.wikipedia.org/wiki/Basis_(linear_algebra)) of a [column space](https://en.wikipedia.org/wiki/Row_and_column_spaces) $C(X)$ in $\\mathbb{R}^3$. What this means is that the two columns of $X$, the vectors $(1, 1, 1)$ and $(1, 2, 3)$, lie on a [plane](https://en.wikipedia.org/wiki/Plane_(geometry)) in 3-dimensional space. We can represent all vectors on that plane by taking the linear combinations of these two vectors; that is, by getting all solutions to:\n",
    "\n",
    "$$\n",
    "C(X) = p\\begin{bmatrix} 1 \\\\ 1 \\\\ 1 \\end{bmatrix} + q\\begin{bmatrix} 1 \\\\ 2 \\\\ 3 \\end{bmatrix}\n",
    "$$\n",
    "\n",
    "where $p$ and $q$ represent any real numbers. The reason that we cannot solve our three equations with the $y$ that we have from our data is that it does not lie on this plane: in other words, it is not a linear combination of our two column vectors in $X$. We can see this in the diagram below.\n",
    "\n",
    "<img src=\"/figure/linear-algebra-3.png\" title=\"y in relation to C(X)\" style=\"display: block; margin: auto;\" />\n",
    "\n",
    "In order to solve our three equations, we need to find the _closest_ vector to $y$ in this plane $C(X)$, $\\hat y$. Now, instead of trying to solve $Xb = y$, we will try to solve for $Xb = \\hat y$:\n",
    "\n",
    "$$\n",
    "Xb = \\hat y = \\begin{bmatrix} 1 & 1 \\\\ 1 & 2 \\\\ 1 & 3 \\end{bmatrix} \\begin{bmatrix} b_0 \\\\ b_1 \\end{bmatrix} = \\begin{bmatrix} \\hat y_1 \\\\ \\hat y_2 \\\\ \\hat y_3 \\end{bmatrix}\n",
    "$$\n",
    "\n",
    "\n",
    "It turns out that the shortest path from our vector $y$ to the plane $C(X)$ is a straight line which sits at a 90° angle to the plane and connects the plane to the vector. The point where this line meets the plane is $\\hat y$, the nearest approximation in the plane we have to our observed $y$, and the line itself is our error, $e$, which represents how far away our approximation $\\hat y$ is from our actual $y$ vector.\n",
    "\n",
    "<img src=\"/figure/linear-algebra-4.png\" title=\"Projection of y onto C(X) to get e and y-hat\" style=\"display: block; margin: auto;\" />\n",
    "\n",
    "The values of the vector $b$ ($b_0$ and $b_1$) turn out to be those values that give us the right linear combinations of the column vectors of $X$ in order to find this vector $\\hat y$."
   ]
  },
  {
   "cell_type": "markdown",
   "metadata": {},
   "source": [
    "## Finding $b_0$ and $b_1$\n",
    "\n",
    "So how do we find these right values of $b_0$ and $b_1$ to give us our best approximation $\\hat y$? As said above, the line with the smallest distance between the plane and $y$ sits at a 90° angle to the plane: in other words, it is [orthogonal](https://en.wikipedia.org/wiki/Orthogonality#Euclidean_vector_spaces) to the plane. In fact, $e$ is not just orthogonal to our column vectors in $X$, it is orthogonal to **every** vector in $C(X)$.\n",
    "\n",
    "Pairs of orthogonal vectors have a very nice property: when we take their [dot product](https://www.mathsisfun.com/algebra/vectors-dot-product.html), we get $0$. This means that $e$ multiplied by any vector in $C(X)$ will be $0$. Generalising this to the whole matrix X, we get:\n",
    "\n",
    "$$\n",
    "X^T \\cdotp e = 0\n",
    "$$\n",
    "\n",
    "which represents that the dot product of every transposed column in $X$ multiplied by $e$ is 0. Next, because $\\hat y = Xb$, and $e$ is the difference between $y$ and $\\hat y$, we can rewrite the above as:\n",
    "\n",
    "$$\n",
    "X^T(y - Xb) = 0\n",
    "$$\n",
    "\n",
    "When we expand this equation and move one of the components to the righthand side, we end up with the equation that will allow us to find our $b$'s:\n",
    "\n",
    "$$\n",
    "X^TXb = X^Ty\n",
    "$$\n",
    "\n",
    "This equation will give us a new set of linear equations. If we solve these for $b_0$ and $b_1$, then we will get the right coefficients to find $\\hat y$, our closest vector to $b$ that lies in $C(X)$.\n",
    "\n",
    "Let's see this in action with our example dataset. For the lefthand side, we want to calculate our new matrix $X^TX$."
   ]
  },
  {
   "cell_type": "code",
   "execution_count": 42,
   "metadata": {},
   "outputs": [
    {
     "data": {
      "text/plain": [
       "array([[ 3,  6],\n",
       "       [ 6, 14]])"
      ]
     },
     "execution_count": 42,
     "metadata": {},
     "output_type": "execute_result"
    }
   ],
   "source": [
    "import numpy as np\n",
    "\n",
    "X = np.array([[1, 1], [1, 2], [1, 3]])\n",
    "X_T_X = X.transpose().dot(X)\n",
    "X_T_X"
   ]
  },
  {
   "cell_type": "markdown",
   "metadata": {},
   "source": [
    "For the righthand side, we want to calculate our new vector $X^Ty$."
   ]
  },
  {
   "cell_type": "code",
   "execution_count": 43,
   "metadata": {},
   "outputs": [
    {
     "data": {
      "text/plain": [
       "array([[16],\n",
       "       [36]])"
      ]
     },
     "execution_count": 43,
     "metadata": {},
     "output_type": "execute_result"
    }
   ],
   "source": [
    "y = np.array([[3], [6], [7]])\n",
    "X_T_y = X.transpose().dot(y)\n",
    "X_T_y"
   ]
  },
  {
   "cell_type": "markdown",
   "metadata": {},
   "source": [
    "We can now put these together to create our new system of simultaneous equations, and solve these for $b_0$ and $b_1$.\n",
    "\n",
    "$$\n",
    "X^TXb = X^Ty = \\begin{bmatrix} 3 & 6 \\\\ 6 & 14 \\end{bmatrix} \\begin{bmatrix} b_0 \\\\ b_1 \\end{bmatrix} = \\begin{bmatrix} 16 \\\\ 36 \\end{bmatrix}\n",
    "$$\n",
    "\n",
    "This yields the two solvable equations:\n",
    "\n",
    "$$\n",
    "\\begin{aligned}\n",
    "3b_0 + 6b_1 &= 16 \\\\\n",
    "6b_0 + 14b_1 &= 36\n",
    "\\end{aligned}\n",
    "$$\n",
    "\n",
    "Solving these, we get $b_0 = \\frac{4}{3}$ and $b_1 = 2$. We now have a line of best fit, $\\hat y = \\frac{4}{3} + 2b_1$.\n",
    "\n",
    "Substituting these values into $Xb$ will give us $\\hat y$:\n",
    "\n",
    "$$\n",
    "\\begin{aligned}\n",
    "\\hat y = Xb = \\begin{bmatrix} 1 & 1 \\\\[4pt] 1 & 2 \\\\[4pt] 1 & 3 \\end{bmatrix} \\begin{bmatrix} \\frac{4}{3} \\\\[4pt] 2 \\end{bmatrix} = \\begin{bmatrix} \\frac{4}{3} \\\\[4pt] \\frac{4}{3} \\\\[4pt] \\frac{4}{3} \\end{bmatrix} + \\begin{bmatrix} 2 \\\\[4pt] 4 \\\\[4pt] 6 \\end{bmatrix} = \\begin{bmatrix} \\frac{10}{3} \\\\[4pt] \\frac{16}{3} \\\\[4pt] \\frac{22}{3} \\end{bmatrix}\n",
    "\\end{aligned}\n",
    "$$\n",
    "\n",
    "We can now get $e$ as well, by calculating:\n",
    "\n",
    "$$\n",
    "e = y - \\hat y = \\begin{bmatrix} 3 \\\\[4pt] 6 \\\\[4pt] 7 \\end{bmatrix} - \\begin{bmatrix} \\frac{10}{3} \\\\[4pt] \\frac{16}{3} \\\\[4pt] \\frac{22}{3} \\end{bmatrix} = \\begin{bmatrix} -\\frac{1}{3} \\\\[4pt] \\frac{2}{3} \\\\[4pt] -\\frac{1}{3} \\end{bmatrix}\n",
    "$$\n",
    "\n",
    "Each of the components of $e$ represents the vertical distance between our line of best fit and our observed $y$, as shown in the graph at the beginning of this post. For example, $y_1$ \"misses\" the line by $-\\frac{1}{3}$ of a test score grade.\n",
    "\n",
    "We can confirm that $e$ is indeed orthogonal to $C(X)$ by picking any vector from that space and calculating its dot product with $e$. Let's try this out with $(1, 2, 3)$:"
   ]
  },
  {
   "cell_type": "code",
   "execution_count": 38,
   "metadata": {},
   "outputs": [
    {
     "data": {
      "text/plain": [
       "array([[0.]])"
      ]
     },
     "execution_count": 38,
     "metadata": {},
     "output_type": "execute_result"
    }
   ],
   "source": [
    "x_1 = np.array([[1], [2], [3]])\n",
    "e = np.array([[-1/3], [2/3], [-1/3]])\n",
    "x_1.transpose().dot(e)"
   ]
  },
  {
   "cell_type": "markdown",
   "metadata": {},
   "source": [
    "## Confirming our result\n",
    "\n",
    "Finally, let's compare the result we got from our normal equation approach to the result given by `sklearn`'s implementation of linear regression. Let's start by fitting our model, with the $X$ and $y$ matrices we defined above:"
   ]
  },
  {
   "cell_type": "code",
   "execution_count": null,
   "metadata": {},
   "outputs": [],
   "source": [
    "from sklearn.linear_model import LinearRegression\n",
    "\n",
    "reg = LinearRegression().fit(X, y)"
   ]
  },
  {
   "cell_type": "markdown",
   "metadata": {},
   "source": [
    "We'll retrieve the model intercept ($b_0$) and $x_1$ coefficient ($b_1$) estimates:"
   ]
  },
  {
   "cell_type": "code",
   "execution_count": 62,
   "metadata": {},
   "outputs": [
    {
     "name": "stdout",
     "output_type": "stream",
     "text": [
      "Model intercept (b_0): [1.33333333]\n",
      "Model coefficient (b_1): [[0. 2.]]\n"
     ]
    }
   ],
   "source": [
    "print(f\"Model intercept (b_0): {reg.intercept_}\")\n",
    "print(f\"Model coefficient (b_1): {reg.coef_}\")"
   ]
  },
  {
   "cell_type": "markdown",
   "metadata": {},
   "source": [
    "Finally, we'll use this model to predict the best fitting values from $X$, that is, to generate $\\hat y$:"
   ]
  },
  {
   "cell_type": "code",
   "execution_count": 64,
   "metadata": {},
   "outputs": [
    {
     "name": "stdout",
     "output_type": "stream",
     "text": [
      "Generate y-hat:\n",
      " [[3.33333333]\n",
      " [5.33333333]\n",
      " [7.33333333]]\n"
     ]
    }
   ],
   "source": [
    "print(f\"Generate y-hat:\\n {reg.predict(X)}\") "
   ]
  },
  {
   "cell_type": "markdown",
   "metadata": {},
   "source": [
    "We can see that our use of the normal method has achieve the exact same values given by the standard Python implementation of linear regression!"
   ]
  }
 ],
 "metadata": {
  "kernelspec": {
   "display_name": "Python 3",
   "language": "python",
   "name": "python3"
  },
  "language_info": {
   "codemirror_mode": {
    "name": "ipython",
    "version": 3
   },
   "file_extension": ".py",
   "mimetype": "text/x-python",
   "name": "python",
   "nbconvert_exporter": "python",
   "pygments_lexer": "ipython3",
   "version": "3.7.6"
  }
 },
 "nbformat": 4,
 "nbformat_minor": 4
}
