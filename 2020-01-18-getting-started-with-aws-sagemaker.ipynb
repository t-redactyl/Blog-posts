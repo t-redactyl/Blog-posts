{
 "cells": [
  {
   "cell_type": "markdown",
   "metadata": {},
   "source": [
    "---\n",
    "title: Getting started with AWS Sagemaker\n",
    "date: 2020-01-18  \n",
    "comments: false  \n",
    "tags: aws, tooling, machine learning\n",
    "keywords: aws sagemaker, aws, machine learning\n",
    "\n",
    "---\n",
    "\n",
    "Up until a few months ago, I had a vague idea that you could use AWS to do data science work, but I didn't understand how it worked. I recently decided to bite the bullet and research AWS tooling for data science, and was pleasantly surprised to find out that not only is it pretty straightforward to use, but that is so powerful that I now have the possibility to train and use even large neural nets for my own projects.\n",
    "\n",
    "Before we get into that, though, let's take a step back and look at what AWS is.\n",
    "\n",
    "## What is AWS?\n",
    "\n",
    "AWS, short for Amazon Web Services, is a cloud computing platform, in other words, a platform that allows you to perform a range of functions within the cloud. The main selling point of AWS is that it allows you rent access to servers to say, store and retrieve data or run an application, on an on-demand basis, which eliminates the overhead associated with buying and maintaining these servers yourself. Moreover, you only pay for what you use, meaning that overall it is much cheaper than setting up your own servers.\n",
    "\n",
    "It has grown from a platform that just offered simple storage (S3 buckets) and general use virtual machines (EC2 instances) in 2006 to a dizzying array of products for cloud computing. Happily for data scientists, that suite of products now includes a specialised machine learning service, Sagemaker, which we will talk about in more detail in a second.\n",
    "\n",
    "\n",
    "\n",
    "Things to explain:\n",
    "* Regions\n",
    "* Availability zones\n",
    "\n",
    "## What is SageMaker?\n",
    "Define what it is, and what it does, and how it fits into AWS family.\n",
    "\n",
    "## Why would a data scientist want to use AWS?\n",
    "Getting access to much more powerful machines on demand.\n",
    "\n",
    "## How does it work?\n",
    "Give an overview of the workflow that Cristian drew.\n",
    "Define what an instance is here, and the different types.\n",
    "Give some guidelines on the size of the instances what you will probably need based on the tasks you'll be doing.\n",
    "\n",
    "## Getting started with AWS SageMaker\n",
    "- Creating an account\n",
    "- Creating first notebook instance\n",
    "\n",
    "* functions include\n",
    "\n",
    "\n"
   ]
  }
 ],
 "metadata": {
  "kernelspec": {
   "display_name": "Python 3",
   "language": "python",
   "name": "python3"
  },
  "language_info": {
   "codemirror_mode": {
    "name": "ipython",
    "version": 3
   },
   "file_extension": ".py",
   "mimetype": "text/x-python",
   "name": "python",
   "nbconvert_exporter": "python",
   "pygments_lexer": "ipython3",
   "version": "3.7.6"
  }
 },
 "nbformat": 4,
 "nbformat_minor": 2
}
