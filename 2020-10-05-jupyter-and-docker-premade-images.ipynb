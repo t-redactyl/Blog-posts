{
 "cells": [
  {
   "cell_type": "markdown",
   "metadata": {},
   "source": [
    "---\n",
    "title: Running Jupyter in a Docker container using pre-made images  \n",
    "date: 2020-10-05    \n",
    "comments: false  \n",
    "tags: docker, machine learning  \n",
    "keywords: python, data science, docker, jupyter, gradient boosting classifier, machine learning, sklearn\n",
    "\n",
    "---\n",
    "\n",
    "While I have been using virtualenvs for dependency management in Python for years, I have put off learning how to use Docker containers until quite recently. It turns out that I should have made the switch sooner! Containers are relatively easy to learn, straightforward to manage and use, and have a number of advantages of working directly on your local machine.\n",
    "\n",
    "In this blog post and the next, I want to focus on working with Jupyter notebooks within Docker containers, and some of the tips and tricks you can use to make this easier. In this blog post, I'll be focusing on using the pre-made images for data science available on Docker Hub, and in the next post we'll look at how to develop your own image customised for your needs.\n",
    "\n",
    "## Why use Jupyter within a Docker container?\n",
    "\n",
    "When starting a new data science project, or indeed, picking up an old one, it's common to have issues with your environment or dependencies. For example, you might have an older version of Python installed, but the package you want to use only works with 3.8. Or you might need an older version of Tensorflow than the one your have globally installed to follow a tutorial. Or you might want to pick up an old analysis you did in R, but its not installed on your machine anymore. Docker containers offer a solution to elegantly handle all of these issues, without the need to install versions on your machine that might clash, or which you might only need for a single project.\n",
    "\n",
    "[A Docker container](https://www.docker.com/resources/what-container) is essentially a self-contained process that sits on top of your operating system, and which is isolated from all other processes and directories on your computer (unless you specifically open up access points in the container). Due to this separation, you can install programming languages in the container that you don't want installed globally, or you can also install versions of a language that are different to your system version. You can install dependencies that are isolated to the container. You can even create files that only the container can access. \n",
    "\n",
    "This means that if you are working with a Jupyter notebook within a container, you can install the language (and version of that language) that you need, along with all of the dependencies, without creating conflicts on your computer. Once you're finished the analysis, you can just shutdown the container, freeing up all of the space taken up by the installations and files that were in the container. This creates a much neater end to analyses as well, where you only keep those files you need, rather than having folders full of the interim files and datasets you created on the way.\n",
    "\n",
    "Finally, the fact that containers are self-contained make them very helpful for dependency management, making it much easier to do everything from share your analyses to deploying models. Another person (or server) can easily build a container using your image and run your notebooks or application using the same environment that you did.\n",
    "\n",
    "So with all of these advantages I've described, I hope you're keen to try out using Jupyter in a Docker container yourself!\n",
    "\n",
    "\n",
    "## Using a pre-made image from Docker Hub\n",
    "\n",
    "In order to get started with containers, we need to source an [image](https://www.tutorialspoint.com/docker/docker_images.htm) that has all of our required dependencies and can launch a Jupyter notebook instance. (If you've never used Docker containers before, I'd recommend getting acquainted with the basic commands using [this guide](https://docker-curriculum.com/) (or something similar).) The easiest way to get started with this is using one of the [official Jupyter images](https://jupyter-docker-stacks.readthedocs.io/en/latest/), which come in a variety of flavours to fulfill different purposes. \n",
    "\n",
    "To get started, let's say that we want to use a [gradient boosting classifier](https://scikit-learn.org/stable/modules/generated/sklearn.ensemble.GradientBoostingClassifier.html) to predict survival using [the Titanic dataset](https://www.kaggle.com/c/titanic). Looking through the list of Jupyter images available, it seems that the [jupyter/scipy-notebook](https://jupyter-docker-stacks.readthedocs.io/en/latest/using/selecting.html#jupyter-scipy-notebook) would be the most suitable for this analysis, so let's go ahead and run it from the latest image. If we execute the following in a shell:"
   ]
  },
  {
   "cell_type": "code",
   "execution_count": null,
   "metadata": {},
   "outputs": [],
   "source": [
    "docker run -p 8888:8888 jupyter/scipy-notebook:latest"
   ]
  },
  {
   "cell_type": "markdown",
   "metadata": {},
   "source": [
    "then we'll be given output that includes the following:\n",
    "\n",
    "```\n",
    "To access the notebook, open this file in a browser:\n",
    "        file:///home/jovyan/.local/share/jupyter/runtime/nbserver-6-open.html\n",
    "    Or copy and paste one of these URLs:\n",
    "        http://f5504e8e5c41:8888/?token=XXXXXXXX\n",
    "     or http://127.0.0.1:8888/?token=XXXXXXX\n",
    "```\n",
    "\n",
    "We can then copy and paste our localhost URL (the one starting the `http://127.0.0.1:8888/`) into the browser, and we're connected to our Jupyter notebook in the container!\n",
    "\n",
    "Before we get into the notebook through, I just wanted to briefly discuss [why we include the `-p 8888:8888` argument as part of running our container](https://medium.com/better-programming/how-does-docker-port-binding-work-b089f23ca4c8). Essentially this container has exposed port 8888; however, in order to be able to connect to the container and work within it we need to bind this port to a corresponding port on our local machine. We therefore include this `-p` (port) argument to tell Docker to bind its internal port with port 8888 on our machine. Without this argument we essentially would have a container running, but no way to access it!\n",
    "\n",
    "Getting back to our notebook instance, we can see we have an empty directory, with no way to access any files on our computer. This is a part of the isolation of Docker: by default, it cannot read or write locally. One option we have in this case is uploading the data we need manually by dragging and dropping it into our notebook session: \n",
    "\n",
    "<img src=\"/figure/docker-1.png\" title=\"Uploading manually to a Docker notebook instance\" style=\"display: block; margin: auto;\" />\n",
    "\n",
    "To get started, we can create a new Python 3 notebook as usual. Once in the notebook, we can check what version of Python we're running, as well as what libraries we have installed."
   ]
  },
  {
   "cell_type": "code",
   "execution_count": 9,
   "metadata": {},
   "outputs": [
    {
     "name": "stdout",
     "output_type": "stream",
     "text": [
      "Python 3.8.3\r\n"
     ]
    }
   ],
   "source": [
    "!python --version"
   ]
  },
  {
   "cell_type": "code",
   "execution_count": 10,
   "metadata": {},
   "outputs": [
    {
     "name": "stdout",
     "output_type": "stream",
     "text": [
      "Package                Version\n",
      "---------------------- -------------------\n",
      "alembic                1.4.2\n",
      "async-generator        1.10\n",
      "attrs                  19.3.0\n",
      "backcall               0.2.0\n",
      "beautifulsoup4         4.9.1\n",
      "bleach                 3.1.5\n",
      "blinker                1.4\n",
      "bokeh                  2.0.2\n",
      "Bottleneck             1.3.2\n",
      "brotlipy               0.7.0\n",
      "certifi                2020.6.20\n",
      "certipy                0.1.3\n",
      "cffi                   1.14.0\n",
      "chardet                3.0.4\n",
      "click                  7.1.2\n",
      "cloudpickle            1.4.1\n",
      "conda                  4.8.3\n",
      "conda-package-handling 1.6.0\n",
      "cryptography           2.9.2\n",
      "cycler                 0.10.0\n",
      "Cython                 0.29.21\n",
      "cytoolz                0.10.1\n",
      "dask                   2.15.0\n",
      "decorator              4.4.2\n",
      "defusedxml             0.6.0\n",
      "dill                   0.3.2\n",
      "distributed            2.20.0\n",
      "entrypoints            0.3\n",
      "fastcache              1.1.0\n",
      "fsspec                 0.7.4\n",
      "gmpy2                  2.1.0b1\n",
      "h5py                   2.10.0\n",
      "HeapDict               1.0.1\n",
      "idna                   2.10\n",
      "imageio                2.9.0\n",
      "importlib-metadata     1.7.0\n",
      "ipykernel              5.3.2\n",
      "ipympl                 0.5.6\n",
      "ipython                7.16.1\n",
      "ipython-genutils       0.2.0\n",
      "ipywidgets             7.5.1\n",
      "jedi                   0.17.1\n",
      "Jinja2                 2.11.2\n",
      "joblib                 0.16.0\n",
      "json5                  0.9.4\n",
      "jsonschema             3.2.0\n",
      "jupyter-client         6.1.5\n",
      "jupyter-core           4.6.3\n",
      "jupyter-telemetry      0.0.5\n",
      "jupyterhub             1.1.0\n",
      "jupyterlab             2.1.5\n",
      "jupyterlab-server      1.2.0\n",
      "kiwisolver             1.2.0\n",
      "llvmlite               0.31.0\n",
      "locket                 0.2.0\n",
      "Mako                   1.1.0\n",
      "MarkupSafe             1.1.1\n",
      "matplotlib             3.2.2\n",
      "mistune                0.8.4\n",
      "mock                   4.0.2\n",
      "mpmath                 1.1.0\n",
      "msgpack                1.0.0\n",
      "nbconvert              5.6.1\n",
      "nbformat               5.0.7\n",
      "networkx               2.4\n",
      "notebook               6.0.3\n",
      "numba                  0.48.0\n",
      "numexpr                2.7.1\n",
      "numpy                  1.18.5\n",
      "oauthlib               3.0.1\n",
      "olefile                0.46\n",
      "packaging              20.4\n",
      "pamela                 1.0.0\n",
      "pandas                 1.0.5\n",
      "pandocfilters          1.4.2\n",
      "parso                  0.7.0\n",
      "partd                  1.1.0\n",
      "patsy                  0.5.1\n",
      "pexpect                4.8.0\n",
      "pickleshare            0.7.5\n",
      "Pillow                 7.2.0\n",
      "pip                    20.1.1\n",
      "prometheus-client      0.8.0\n",
      "prompt-toolkit         3.0.5\n",
      "protobuf               3.11.4\n",
      "psutil                 5.7.0\n",
      "ptyprocess             0.6.0\n",
      "pycosat                0.6.3\n",
      "pycparser              2.20\n",
      "pycurl                 7.43.0.5\n",
      "Pygments               2.6.1\n",
      "PyJWT                  1.7.1\n",
      "pyOpenSSL              19.1.0\n",
      "pyparsing              2.4.7\n",
      "pyrsistent             0.16.0\n",
      "PySocks                1.7.1\n",
      "python-dateutil        2.8.1\n",
      "python-editor          1.0.4\n",
      "python-json-logger     0.1.11\n",
      "pytz                   2020.1\n",
      "PyWavelets             1.1.1\n",
      "PyYAML                 5.3.1\n",
      "pyzmq                  19.0.1\n",
      "requests               2.24.0\n",
      "ruamel-yaml            0.15.80\n",
      "ruamel.yaml            0.16.6\n",
      "ruamel.yaml.clib       0.2.0\n",
      "scikit-image           0.16.2\n",
      "scikit-learn           0.23.1\n",
      "scipy                  1.4.1\n",
      "seaborn                0.10.1\n",
      "Send2Trash             1.5.0\n",
      "setuptools             49.2.0.post20200712\n",
      "six                    1.15.0\n",
      "sortedcontainers       2.2.2\n",
      "soupsieve              2.0.1\n",
      "SQLAlchemy             1.3.18\n",
      "statsmodels            0.11.1\n",
      "sympy                  1.5.1\n",
      "tables                 3.6.1\n",
      "tblib                  1.6.0\n",
      "terminado              0.8.3\n",
      "testpath               0.4.4\n",
      "threadpoolctl          2.1.0\n",
      "toolz                  0.10.0\n",
      "tornado                6.0.4\n",
      "tqdm                   4.47.0\n",
      "traitlets              4.3.3\n",
      "typing-extensions      3.7.4.2\n",
      "urllib3                1.25.9\n",
      "vincent                0.4.4\n",
      "wcwidth                0.2.5\n",
      "webencodings           0.5.1\n",
      "wheel                  0.34.2\n",
      "widgetsnbextension     3.5.1\n",
      "xlrd                   1.2.0\n",
      "zict                   2.0.0\n",
      "zipp                   3.1.0\n"
     ]
    }
   ],
   "source": [
    "!pip list"
   ]
  },
  {
   "cell_type": "markdown",
   "metadata": {},
   "source": [
    "You can see that the notebook is running on the extremely current Python 3.8.3, and has pretty much everything we could need for a Scipy-based analysis installed. If you want a specific image, rather than the latest one (for reproducibility, for instance), you can also specify a release from [this list](https://hub.docker.com/r/jupyter/scipy-notebook/tags/).\n",
    "\n",
    "## Running a model \n",
    "\n",
    "We're now ready to start our analysis. In order to keep this blog post a bit more focused, I have already preprocessed the Titanic training data, keeping the `Pclass`, `Sex`, `Age`, `SibSp`, `Parch` and `Fare` features, and running some light data cleaning such as replacing missing data and converting age to a numeric variable. I also separated the outcome (`Survived`) from the features, saving them as `X_data` and `y_data`. Let's start by importing our dependencies and reading in the data. We will also split the data into training and validation sets using `sklearn`'s `train_test_split` method."
   ]
  },
  {
   "cell_type": "code",
   "execution_count": 2,
   "metadata": {},
   "outputs": [],
   "source": [
    "import os\n",
    "\n",
    "import seaborn as sns\n",
    "import numpy as np\n",
    "import pandas as pd\n",
    "import matplotlib.pyplot as plt\n",
    "\n",
    "from sklearn.model_selection import train_test_split\n",
    "from sklearn.ensemble import GradientBoostingClassifier\n",
    "from sklearn.metrics import classification_report, confusion_matrix, roc_curve, auc\n",
    "from sklearn.model_selection import GridSearchCV\n",
    "\n",
    "data_path = os.getcwd()\n",
    "X_data = np.load(os.path.join(data_path, \"X_data.npy\"))\n",
    "y_data = np.load(os.path.join(data_path, \"y_data.npy\"))\n",
    "\n",
    "X_train, X_val, y_train, y_val = train_test_split(X_data, y_data, random_state=123)"
   ]
  },
  {
   "cell_type": "markdown",
   "metadata": {},
   "source": [
    "You can see that out of the box, this image contains everything we need for this analysis, and we've been able to get started without any friction or backtracking. Let's see how we go with running a grid search to get some hyperparameter values. For the sake of time, I am only tuning the values of `max_depth` and `max_features`."
   ]
  },
  {
   "cell_type": "code",
   "execution_count": 5,
   "metadata": {},
   "outputs": [
    {
     "name": "stdout",
     "output_type": "stream",
     "text": [
      "BEST MODEL ACCURACY\n",
      "0.8263831219840647\n",
      "\n",
      "BEST HYPERPARAMETER VALUES\n",
      "Max depth: 3\n",
      "Max features: 2\n"
     ]
    }
   ],
   "source": [
    "gb = GradientBoostingClassifier()\n",
    "\n",
    "max_depth = [2, 3, 4, 5, 6, 7]\n",
    "max_features = [2, 3, 4, 5]\n",
    "\n",
    "param_grid = dict(max_depth = max_depth, max_features = max_features)\n",
    "grid = GridSearchCV(estimator=gb, param_grid=param_grid, scoring = \"accuracy\", )\n",
    "\n",
    "grid.fit(X_train, y_train)\n",
    "\n",
    "print(\"BEST MODEL ACCURACY\")\n",
    "print(grid.best_score_)\n",
    "print(\"\\nBEST HYPERPARAMETER VALUES\")\n",
    "print(f\"Max depth: {grid.best_estimator_.max_depth}\")\n",
    "print(f\"Max features: {grid.best_estimator_.max_features}\")"
   ]
  },
  {
   "cell_type": "markdown",
   "metadata": {},
   "source": [
    "We can now use these values to build our model and get our performance metrics:"
   ]
  },
  {
   "cell_type": "code",
   "execution_count": 6,
   "metadata": {},
   "outputs": [
    {
     "name": "stdout",
     "output_type": "stream",
     "text": [
      "Classification Report\n",
      "              precision    recall  f1-score   support\n",
      "\n",
      "           0       0.84      0.90      0.87       139\n",
      "           1       0.81      0.71      0.76        84\n",
      "\n",
      "    accuracy                           0.83       223\n",
      "   macro avg       0.82      0.81      0.81       223\n",
      "weighted avg       0.83      0.83      0.83       223\n",
      "\n"
     ]
    }
   ],
   "source": [
    "gb_tuned = GradientBoostingClassifier(max_depth=3, max_features=2)\n",
    "gb_tuned.fit(X_train, y_train)\n",
    "predictions = gb_tuned.predict(X_val)\n",
    "\n",
    "print(\"Classification Report\")\n",
    "print(classification_report(y_val, predictions))"
   ]
  },
  {
   "cell_type": "markdown",
   "metadata": {},
   "source": [
    "Finally, we can also display charts as per usual in these Jupyter notebooks. As we know we have `matplotlib` and `seaborn` installed, let's go ahead and visualise our confusion matrix:"
   ]
  },
  {
   "cell_type": "code",
   "execution_count": 7,
   "metadata": {},
   "outputs": [],
   "source": [
    "def print_confusion_matrix(\n",
    "    confusion_matrix: \"numpy.ndarray\",\n",
    "    class_names: list,\n",
    "    normalize: bool = False,\n",
    "    figsize: tuple = (10, 7),\n",
    "    fontsize: int = 14):\n",
    "\n",
    "    \"\"\"\n",
    "    Reads in an sklearn confusion matrix and returns a plot. Code taken from: \n",
    "    https://gist.github.com/shaypal5/94c53d765083101efc0240d776a23823\n",
    "    \"\"\"\n",
    "\n",
    "    if normalize:\n",
    "        confusion_matrix = (\n",
    "            confusion_matrix.astype(\"float\")\n",
    "            / confusion_matrix.sum(axis=1)[:, np.newaxis]\n",
    "        )\n",
    "        print(\"Normalized confusion matrix\")\n",
    "    else:\n",
    "        print(\"Confusion matrix, without normalization\")\n",
    "\n",
    "    df_cm = pd.DataFrame(confusion_matrix, index=class_names, columns=class_names,)\n",
    "    fig = plt.figure(figsize=figsize)\n",
    "    try:\n",
    "        heatmap = sns.heatmap(\n",
    "            df_cm, cmap=\"RdBu\", annot=True, fmt=\".2f\" if normalize else \"d\"\n",
    "        )\n",
    "    except ValueError:\n",
    "        raise ValueError(\"Confusion matrix values must be integers.\")\n",
    "    heatmap.yaxis.set_ticklabels(\n",
    "        heatmap.yaxis.get_ticklabels(), rotation=0, ha=\"right\", fontsize=fontsize\n",
    "    )\n",
    "    heatmap.xaxis.set_ticklabels(\n",
    "        heatmap.xaxis.get_ticklabels(), rotation=45, ha=\"right\", fontsize=fontsize\n",
    "    )\n",
    "    plt.ylabel(\"True label\")\n",
    "    plt.xlabel(\"Predicted label\")"
   ]
  },
  {
   "cell_type": "code",
   "execution_count": 8,
   "metadata": {},
   "outputs": [
    {
     "name": "stdout",
     "output_type": "stream",
     "text": [
      "Normalized confusion matrix\n"
     ]
    },
    {
     "data": {
      "image/png": "[encoded data removed]",
      "text/plain": [
       "<Figure size 720x504 with 2 Axes>"
      ]
     },
     "metadata": {
      "needs_background": "light"
     },
     "output_type": "display_data"
    }
   ],
   "source": [
    "%matplotlib inline\n",
    "survived_cm = confusion_matrix(y_val, predictions)\n",
    "print_confusion_matrix(\n",
    "    survived_cm,\n",
    "    [\"Died\", \"Survived\"],\n",
    "    normalize=True,\n",
    "    fontsize=11,\n",
    ")"
   ]
  },
  {
   "cell_type": "markdown",
   "metadata": {},
   "source": [
    "## Mounting a volume\n",
    "\n",
    "As I said earlier, any notebooks, datasets, or other files that we create during this session will be destroyed when the notebook is shutdown. In this case, you will need to download those files you want to keep at the end of your session. This might be advantageous (for instance, you might want to have a tidy analysis file with just those notebooks and datasets you ended up needing), but there are times you might want to have access to a local directory to load and save files instead. In this case, we can mount a volume when we run our container. This argument has two parts: the directory on your computer you want to mount, and the internal directory within your container. This container directory is defined as part of the image, and we'll discuss it more in the next blog post. For now, all you need to understand is that for the official Jupyter images it is `/home/jovyan/work`. Hence, to mount my local directory `~/Documents/gbc-titanic` to the container, I add the argument `-v ~/Documents/gbc-titanic:/home/jovyan/work` to my run command, as so:"
   ]
  },
  {
   "cell_type": "code",
   "execution_count": null,
   "metadata": {},
   "outputs": [],
   "source": [
    "docker run -p 8888:8888 -v ~/Documents/gbc-titanic:/home/jovyan/work jupyter/scipy-notebook:latest"
   ]
  },
  {
   "cell_type": "markdown",
   "metadata": {},
   "source": [
    "When you enter the notebook instance in your container, you'll now see you have access to this directory within the `work` directory. You can now read and write files within this directory, and anything made within the container will be saved locally.\n",
    "\n",
    "That is all for this post, but stay tuned for the next one where I teach you how to create your own image, including creating images for different versions of Python and how to use the image to copy over files to your container rather than doing it manually."
   ]
  }
 ],
 "metadata": {
  "kernelspec": {
   "display_name": "Python 3",
   "language": "python",
   "name": "python3"
  },
  "language_info": {
   "codemirror_mode": {
    "name": "ipython",
    "version": 3
   },
   "file_extension": ".py",
   "mimetype": "text/x-python",
   "name": "python",
   "nbconvert_exporter": "python",
   "pygments_lexer": "ipython3",
   "version": "3.8.3"
  }
 },
 "nbformat": 4,
 "nbformat_minor": 4
}
