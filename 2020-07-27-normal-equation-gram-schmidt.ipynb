{
 "cells": [
  {
   "cell_type": "markdown",
   "metadata": {},
   "source": [
    "---\n",
    "title: Simplifying the normal equation with Gram-Schmidt  \n",
    "date: 2020-07-27   \n",
    "comments: false  \n",
    "tags: maths, linear algebra, python  \n",
    "keywords: python, data science, linear algebra, linear regression, normal equation, least squares, numpy\n",
    "\n",
    "---\n",
    "\n",
    "In the [last post]({filename}2020-07-13-linear-algebra-ols-regression.md) I talked about how to find the coefficients that give us the line of best fit for a OLS regression problem using the normal solution. The core of this approach is the equation:\n",
    "\n",
    "$$\n",
    "X^TXb = X^Ty\n",
    "$$\n",
    "\n",
    "The way we solved this in the previous post was to pull out the system of simultaneous equations and solve these for $b$. However, a more straightforward way is to simply rewrite the equation by \"dividing\" both sides by $X^TX$, so that we are directly solving for $b$. If you remember back to [this post]({filename}2020-06-15-matrix-inversion.md), we need to multiply both sides of the equation by the inverse of $X^TX$ in order to isolate $b$:\n",
    "\n",
    "$$\n",
    "\\begin{aligned}\n",
    "(X^TX)^{-1}(X^TX)b &= (X^TX)^{-1}X^Ty \\\\\n",
    "Ib &= (X^TX)^{-1}X^Ty \\\\\n",
    "b &= (X^TX)^{-1}X^Ty\n",
    "\\end{aligned}\n",
    "$$\n",
    "\n",
    "The issue is that this equation now involves taking the inverse of a matrix, which is computationally expensive. In fact, this step is so costly that Andrew Ng recommends that you should not us the normal equation to calculate OLS regression if you have more than 10,000 features! Luckily there is a way of getting rid of this whole inversion step by using a special type of matrix called orthonormal.\n",
    "\n",
    "## The advantage of orthonormal vectors\n",
    "\n",
    "An orthonormal matrix is one where every column vector is an orthogonal unit vector. We have seen orthogonal vectors before: this simply means that the dot product of every pair of vectors in the matrix is $0$. Unit vectors are similarly straightforward - they are just vectors with a length of $1$.\n",
    "\n",
    "Why are orthonormal matrices so great for helping us find $b$? It is because the multiplication of an orthonormal matrice's transpose by itself is the identity matrix, or $Q^TQ = I$, where $Q$ is the orthonormal vector. Does the lefthand side of this equation look familiar? It's the exact part of $X^TXb = X^Ty$ that we tried to get rid of earlier by multiplying by the inverse. If we were able to use the orthonormal form of $X$, we could isolate $b$ without having to calculate the inverse at all!\n",
    "\n",
    "Before we get into how to convert our matrix $X$ into $Q$, let's have a look at why $Q^TQ = 0$.\n",
    "\n",
    "* When we multiply a unit vector by itself, we get that vector squared, which equals the formula for length, which is 1\n",
    "* When we multiply any other two vectors in the matrix, the dot product is 0 because they are orthogonal\n",
    "* Vectors are only multiplied by themselves when $i = j$, which is only on the diagonals\n",
    "\n",
    "## Turning a matrix into an orthonormal matrix\n",
    "\n",
    "* Try to find an example where the length of each is a square root (only possible for first vector)\n",
    "\n",
    "$X = \\begin{bmatrix} 2 & 1 \\\\ 1 & 3 \\\\ 4 & 1 \\\\ 2 & 5 \\end{bmatrix}$\n"
   ]
  },
  {
   "cell_type": "code",
   "execution_count": 7,
   "metadata": {},
   "outputs": [
    {
     "data": {
      "text/plain": [
       "16"
      ]
     },
     "execution_count": 7,
     "metadata": {},
     "output_type": "execute_result"
    }
   ],
   "source": [
    "3**2 + 2**2 + 1**2 + 1**2 + 1**2"
   ]
  },
  {
   "cell_type": "code",
   "execution_count": 11,
   "metadata": {},
   "outputs": [
    {
     "data": {
      "text/plain": [
       "25"
      ]
     },
     "execution_count": 11,
     "metadata": {},
     "output_type": "execute_result"
    }
   ],
   "source": [
    "4**2 + 2**2 + 2**2 + 1**2"
   ]
  },
  {
   "cell_type": "code",
   "execution_count": 15,
   "metadata": {},
   "outputs": [
    {
     "data": {
      "text/plain": [
       "36"
      ]
     },
     "execution_count": 15,
     "metadata": {},
     "output_type": "execute_result"
    }
   ],
   "source": [
    "5**2 + 3**2 + 1**2 + 1**2"
   ]
  },
  {
   "cell_type": "code",
   "execution_count": null,
   "metadata": {},
   "outputs": [],
   "source": []
  }
 ],
 "metadata": {
  "kernelspec": {
   "display_name": "Python 3",
   "language": "python",
   "name": "python3"
  },
  "language_info": {
   "codemirror_mode": {
    "name": "ipython",
    "version": 3
   },
   "file_extension": ".py",
   "mimetype": "text/x-python",
   "name": "python",
   "nbconvert_exporter": "python",
   "pygments_lexer": "ipython3",
   "version": "3.7.6"
  }
 },
 "nbformat": 4,
 "nbformat_minor": 4
}
